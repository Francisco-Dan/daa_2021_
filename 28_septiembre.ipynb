{
  "nbformat": 4,
  "nbformat_minor": 0,
  "metadata": {
    "colab": {
      "name": "28-septiembre.ipynb",
      "provenance": [],
      "toc_visible": true,
      "authorship_tag": "ABX9TyMohlFbZxTAdYc6E3IHw14c",
      "include_colab_link": true
    },
    "kernelspec": {
      "name": "python3",
      "display_name": "Python 3"
    }
  },
  "cells": [
    {
      "cell_type": "markdown",
      "metadata": {
        "id": "view-in-github",
        "colab_type": "text"
      },
      "source": [
        "<a href=\"https://colab.research.google.com/github/Francisco-Dan/daa_2021_/blob/master/28_septiembre.ipynb\" target=\"_parent\"><img src=\"https://colab.research.google.com/assets/colab-badge.svg\" alt=\"Open In Colab\"/></a>"
      ]
    },
    {
      "cell_type": "code",
      "metadata": {
        "id": "VetKkywcCuSW"
      },
      "source": [
        ""
      ],
      "execution_count": null,
      "outputs": []
    },
    {
      "cell_type": "markdown",
      "metadata": {
        "id": "QV_cw0JXDtVX"
      },
      "source": [
        "#Sección 1"
      ]
    },
    {
      "cell_type": "markdown",
      "metadata": {
        "id": "fp2ck1huDxk9"
      },
      "source": [
        "En este archivo aprenderemos a programar en Python con la herramienta de Google Colab Research.\n",
        "\n",
        "También aprenderemos a guardar nuestros cambios a nuestro repositorio de github.com"
      ]
    },
    {
      "cell_type": "markdown",
      "metadata": {
        "id": "wC8A713dD9KP"
      },
      "source": [
        "## Código de ejemplo\n",
        "**negritas** _italica_\n",
        "\n",
        "`edad=10 \n",
        "print(edad)`\n"
      ]
    },
    {
      "cell_type": "code",
      "metadata": {
        "id": "DAPF8Z7YHB5p",
        "outputId": "74749a23-4835-4053-d089-f899f9324a17",
        "colab": {
          "base_uri": "https://localhost:8080/",
          "height": 35
        }
      },
      "source": [
        "frutas = []\n",
        "frutas.append(\"Manzana\")\n",
        "frutas.append(\"Piña\")\n",
        "frutas.append(\"Kiwi\")\n",
        "print(frutas)"
      ],
      "execution_count": 2,
      "outputs": [
        {
          "output_type": "stream",
          "text": [
            "['Manzana', 'Piña', 'Kiwi']\n"
          ],
          "name": "stdout"
        }
      ]
    },
    {
      "cell_type": "code",
      "metadata": {
        "id": "Qa5P_rPqHq0I"
      },
      "source": [
        "archivo = open(\"prueba_daa.txt\",\"wt\")\n",
        "archivo.write(\"Hola mundo jupyter\")\n",
        "archivo.close()"
      ],
      "execution_count": 4,
      "outputs": []
    }
  ]
}