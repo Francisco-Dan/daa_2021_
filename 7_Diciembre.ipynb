{
  "nbformat": 4,
  "nbformat_minor": 0,
  "metadata": {
    "colab": {
      "name": "7 Diciembre.ipynb",
      "provenance": [],
      "authorship_tag": "ABX9TyPhXVOFwkjyPODj/F8DVwyQ",
      "include_colab_link": true
    },
    "kernelspec": {
      "name": "python3",
      "display_name": "Python 3"
    }
  },
  "cells": [
    {
      "cell_type": "markdown",
      "metadata": {
        "id": "view-in-github",
        "colab_type": "text"
      },
      "source": [
        "<a href=\"https://colab.research.google.com/github/Francisco-Dan/daa_2021_/blob/master/7_Diciembre.ipynb\" target=\"_parent\"><img src=\"https://colab.research.google.com/assets/colab-badge.svg\" alt=\"Open In Colab\"/></a>"
      ]
    },
    {
      "cell_type": "code",
      "metadata": {
        "colab": {
          "base_uri": "https://localhost:8080/"
        },
        "id": "Wrt6ySh1uQQb",
        "outputId": "308670fb-8c42-4559-bebc-66f93ffe0320"
      },
      "source": [
        "def fibonacci(n):\n",
        "  print(\"Llamada\", n)\n",
        "  if n == 1 or n == 0:\n",
        "    return n\n",
        "  else:\n",
        "    return (fibonacci(n-1)+fibonacci(n-2))\n",
        "\n",
        "print(fibonacci(6))"
      ],
      "execution_count": 1,
      "outputs": [
        {
          "output_type": "stream",
          "text": [
            "Llamada 6\n",
            "Llamada 5\n",
            "Llamada 4\n",
            "Llamada 3\n",
            "Llamada 2\n",
            "Llamada 1\n",
            "Llamada 0\n",
            "Llamada 1\n",
            "Llamada 2\n",
            "Llamada 1\n",
            "Llamada 0\n",
            "Llamada 3\n",
            "Llamada 2\n",
            "Llamada 1\n",
            "Llamada 0\n",
            "Llamada 1\n",
            "Llamada 4\n",
            "Llamada 3\n",
            "Llamada 2\n",
            "Llamada 1\n",
            "Llamada 0\n",
            "Llamada 1\n",
            "Llamada 2\n",
            "Llamada 1\n",
            "Llamada 0\n",
            "8\n"
          ],
          "name": "stdout"
        }
      ]
    },
    {
      "cell_type": "code",
      "metadata": {
        "id": "qzWbd1aKzYhg"
      },
      "source": [
        "\"\"\"Merge Sort\"\"\""
      ],
      "execution_count": null,
      "outputs": []
    }
  ]
}