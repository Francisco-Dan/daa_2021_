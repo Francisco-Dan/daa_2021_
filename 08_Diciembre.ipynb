{
  "nbformat": 4,
  "nbformat_minor": 0,
  "metadata": {
    "colab": {
      "name": "08 Diciembre.ipynb",
      "provenance": [],
      "authorship_tag": "ABX9TyOr/JFS7GNA5QJO8rQQoxQ/",
      "include_colab_link": true
    },
    "kernelspec": {
      "name": "python3",
      "display_name": "Python 3"
    }
  },
  "cells": [
    {
      "cell_type": "markdown",
      "metadata": {
        "id": "view-in-github",
        "colab_type": "text"
      },
      "source": [
        "<a href=\"https://colab.research.google.com/github/Francisco-Dan/daa_2021_/blob/master/08_Diciembre.ipynb\" target=\"_parent\"><img src=\"https://colab.research.google.com/assets/colab-badge.svg\" alt=\"Open In Colab\"/></a>"
      ]
    },
    {
      "cell_type": "code",
      "metadata": {
        "colab": {
          "base_uri": "https://localhost:8080/"
        },
        "id": "tZXTd3l7f_Y0",
        "outputId": "9a1ff54e-d733-451e-a469-04f6df059f81"
      },
      "source": [
        "def busqB(lista,numero):\r\n",
        "  mitad= len(lista)//2\r\n",
        "   \r\n",
        "  if numero == lista[mitad]:\r\n",
        "    return mitad\r\n",
        "        \r\n",
        "  if len(lista) == 1:\r\n",
        "    return\r\n",
        "       \r\n",
        "  if numero < lista[mitad]:\r\n",
        "    return busqB(lista[0:mitad], numero)\r\n",
        "    \r\n",
        "  else:\r\n",
        "    derecha = busqB(lista[mitad:], numero)\r\n",
        "       \r\n",
        "  if derecha == None:\r\n",
        "    return None \r\n",
        "       \r\n",
        "  else:\r\n",
        "    return busqB(lista[mitad:], numero) + mitad\r\n",
        "\r\n",
        "n = [1,3,4,8,9,10,11,13,14,15,1,6,17,18,20]\r\n",
        "print (n)\r\n",
        "print (busqB(n,18)+1)"
      ],
      "execution_count": 1,
      "outputs": [
        {
          "output_type": "stream",
          "text": [
            "[1, 3, 4, 8, 9, 10, 11, 13, 14, 15, 1, 6, 17, 18, 20]\n",
            "14\n"
          ],
          "name": "stdout"
        }
      ]
    }
  ]
}