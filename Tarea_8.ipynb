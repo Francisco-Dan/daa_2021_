{
  "nbformat": 4,
  "nbformat_minor": 0,
  "metadata": {
    "colab": {
      "name": "Tarea 8.ipynb",
      "provenance": [],
      "collapsed_sections": [],
      "authorship_tag": "ABX9TyPFD3YBKBV6ZqyZrUEvifO6",
      "include_colab_link": true
    },
    "kernelspec": {
      "name": "python3",
      "display_name": "Python 3"
    }
  },
  "cells": [
    {
      "cell_type": "markdown",
      "metadata": {
        "id": "view-in-github",
        "colab_type": "text"
      },
      "source": [
        "<a href=\"https://colab.research.google.com/github/Francisco-Dan/daa_2021_/blob/master/Tarea_8.ipynb\" target=\"_parent\"><img src=\"https://colab.research.google.com/assets/colab-badge.svg\" alt=\"Open In Colab\"/></a>"
      ]
    },
    {
      "cell_type": "code",
      "metadata": {
        "id": "tZXTd3l7f_Y0",
        "colab": {
          "base_uri": "https://localhost:8080/"
        },
        "outputId": "caaeae6e-b27b-4df9-bdd7-37f513b0ed74"
      },
      "source": [
        "def busqB(id, lista, izquierda, derecha):\r\n",
        "  mitad = (izquierda + derecha)//2\r\n",
        "\r\n",
        "  if izquierda >=  derecha:\r\n",
        "    return \"No existe el id\"\r\n",
        "\r\n",
        "  if lista[mitad].get('id') == id:\r\n",
        "    return mitad\r\n",
        "\r\n",
        "  else:\r\n",
        "    if lista[mitad].get('id') > id:\r\n",
        "      return busqB(id, lista, izquierda, (mitad-1))\r\n",
        "\r\n",
        "    else:\r\n",
        "\r\n",
        "      if lista[mitad].get('id') < id:\r\n",
        "        return busqB(id, lista, (mitad+1), derecha)\r\n",
        "\r\n",
        "      else:\r\n",
        "        return busqB(id, lista, izquierda, mitad)\r\n",
        "\r\n",
        "\r\n",
        "\r\n",
        "alumno1={'id':2, 'nombre':\"Juan\" , 'carrera':\"ICO\", 'promedio':7.67}\r\n",
        "alumno2={'id':4, 'nombre':\"Rocio\" , 'carrera':\"ICI\", 'promedio':8.67}\r\n",
        "alumno3={'id':5, 'nombre':\"Diego\" , 'carrera':\"DER\", 'promedio':8.98}\r\n",
        "alumno4={'id':7, 'nombre':\"May\" , 'carrera':\"ICI\", 'promedio':9.87}\r\n",
        "alumno5={'id':9, 'nombre':\"Rob\" , 'carrera':\"IME\", 'promedio':10.00}\r\n",
        "alumno6={'id':10, 'nombre':\"Santi\" , 'carrera':\"ICO\", 'promedio':5.37}\r\n",
        "alumno7={'id':14, 'nombre':\"Moy\" , 'carrera':\"IME\", 'promedio':6.85}\r\n",
        "alumno8={'id':16, 'nombre':\"Diana\" , 'carrera':\"DER\", 'promedio':9.99}\r\n",
        "alumno9={'id':19, 'nombre':\"Zoila\" , 'carrera':\"ICO\", 'promedio':8.22}\r\n",
        "alumno10={'id':22, 'nombre':\"Armando\" , 'carrera':\"ICO\", 'promedio':7.32}\r\n",
        "\r\n",
        "lista = []\r\n",
        "lista.append(alumno1)\r\n",
        "lista.append(alumno2)\r\n",
        "lista.append(alumno3)\r\n",
        "lista.append(alumno4)\r\n",
        "lista.append(alumno5)\r\n",
        "lista.append(alumno6)\r\n",
        "lista.append(alumno7)\r\n",
        "lista.append(alumno8)\r\n",
        "lista.append(alumno9)\r\n",
        "lista.append(alumno10)\r\n",
        "\r\n",
        "id = int(input(\"ID del estudiante: \"))\r\n",
        "alumno = busqB(id, lista, 0, len(lista))\r\n",
        "print(f\"{lista[id].get('nombre')} estudia la carrera de {lista[id].get('carrera')} y tiene un promedio de {lista[id].get('promedio')}\")\r\n",
        "\r\n"
      ],
      "execution_count": 72,
      "outputs": [
        {
          "output_type": "stream",
          "text": [
            "ID del estudiante: 9\n",
            "Armando estudia la carrera de ICO y tiene un promedio de 7.32\n"
          ],
          "name": "stdout"
        }
      ]
    },
    {
      "cell_type": "code",
      "metadata": {
        "id": "E5NFslv4zKTj"
      },
      "source": [
        ""
      ],
      "execution_count": null,
      "outputs": []
    }
  ]
}