{
  "nbformat": 4,
  "nbformat_minor": 0,
  "metadata": {
    "colab": {
      "name": "Tarea10.ipynb",
      "provenance": [],
      "collapsed_sections": [],
      "authorship_tag": "ABX9TyPhlnfQgDIILNI691pprJVc",
      "include_colab_link": true
    },
    "kernelspec": {
      "name": "python3",
      "display_name": "Python 3"
    }
  },
  "cells": [
    {
      "cell_type": "markdown",
      "metadata": {
        "id": "view-in-github",
        "colab_type": "text"
      },
      "source": [
        "<a href=\"https://colab.research.google.com/github/Francisco-Dan/daa_2021_/blob/master/Tarea10.ipynb\" target=\"_parent\"><img src=\"https://colab.research.google.com/assets/colab-badge.svg\" alt=\"Open In Colab\"/></a>"
      ]
    },
    {
      "cell_type": "code",
      "metadata": {
        "id": "_hPGveRGnas-",
        "colab": {
          "base_uri": "https://localhost:8080/",
          "height": 54
        },
        "outputId": "1f140609-8081-4ee2-c15e-617f2a57e216"
      },
      "source": [
        "class NodoArbol:\r\n",
        "    def __init__ (self, value , left=None , rigth=None):\r\n",
        "      self.data= value\r\n",
        "      self.left= left\r\n",
        "      self.rigth= rigth\r\n",
        "  #self.root = None\r\n",
        "\r\n",
        "    def recorrer(self, a):\r\n",
        "      if a == None:\r\n",
        "        return None\r\n",
        "      else:\r\n",
        "        self.recorrer(a.left)\r\n",
        "        self.recorrer(a.rigth)\r\n",
        "        if a.left == None and a.rigth == None:\r\n",
        "          print(f\"El nodo hoja es:{a.data}\")\r\n",
        " \r\n",
        "\"\"\"def recorrer(self, a):\r\n",
        "    if a == None:\r\n",
        "      print(\"No hay datos\")\r\n",
        "      return None\r\n",
        "    else:\r\n",
        "      self.recorrer(a.left)\r\n",
        "      self.recorrer(a.right)\r\n",
        "      print(a.dato)\r\n",
        "\r\n",
        "  def recorrer(self, arbol):\r\n",
        "    if arbol == None:\r\n",
        "      return None\r\n",
        "    else:\r\n",
        "      while arbol != None:\r\n",
        "        return self.recorrer(arbol.rigth)\r\n",
        "        print(dato)\r\n",
        "\r\n",
        "    print(dato)\r\n",
        "  \"\"\"\r\n",
        "  \r\n",
        "\"\"\"class Arbol:\r\n",
        "  def __init__(self):\r\n",
        "    self.root = None\r\n",
        "\r\n",
        "  def postorder(self, a):\r\n",
        "    if a == None:\r\n",
        "      return None\r\n",
        "    else:\r\n",
        "      self.postorder(a.left)\r\n",
        "      self.postorder(a.right)\r\n",
        "      print(a.dato)\"\"\"\r\n",
        "\r\n",
        " "
      ],
      "execution_count": null,
      "outputs": [
        {
          "output_type": "execute_result",
          "data": {
            "application/vnd.google.colaboratory.intrinsic+json": {
              "type": "string"
            },
            "text/plain": [
              "'class Arbol:\\n  def __init__(self):\\n    self.root = None\\n\\n  def postorder(self, a):\\n    if a == None:\\n      return None\\n    else:\\n      self.postorder(a.left)\\n      self.postorder(a.right)\\n      print(a.dato)'"
            ]
          },
          "metadata": {
            "tags": []
          },
          "execution_count": 35
        }
      ]
    },
    {
      "cell_type": "code",
      "metadata": {
        "colab": {
          "base_uri": "https://localhost:8080/",
          "height": 405
        },
        "id": "cSh_Viv2n2qj",
        "outputId": "b5777a6b-4639-4cb5-911a-1a102c3467ff"
      },
      "source": [
        "arbol = NodoArbol(\"R\" ,NodoArbol(\"A\",NodoArbol(\"C\"), NodoArbol(\"B\")),NodoArbol(\"Q\"))\r\n",
        "arbol1 = NodoArbol(\"A\" ,NodoArbol(\"B\",NodoArbol(\"C\")), NodoArbol(\"H\",None,NodoArbol(\"R\",None,NodoArbol(\"Z\",NodoArbol(\"W\"),None))))\r\n",
        "arbol2 = NodoArbol (\"J\",NodoArbol(\"X\",NodoArbol(\"H\"),NodoArbol(\"P\",NodoArbol(\"Q\"),NodoArbol(\"S\"))),NodoArbol(\"K\",None,NodoArbol(\"F\")))\r\n",
        "arbol3 = NodoArbol (\"T\",None,NodoArbol(\"H\",NodoArbol(\"P\",NodoArbol(\"Q\"),NodoArbol(\"D\")),NodoArbol(\"B\",NodoArbol(\"W\"),NodoArbol(\"T\"))))\r\n",
        "\r\n",
        "print(\"Arbol 1\")\r\n",
        "arbol.recorrer(arbol)\r\n",
        "print(\"\\n Arbol 2\")\r\n",
        "arbol1.recorrer(arbol1)\r\n",
        "print(\"\\n Arbol 3\")\r\n",
        "arbol2.recorrer(arbol2)\r\n",
        "print(\"\\n Arbol 4\")\r\n",
        "arbol3.recorrer(arbol3)\r\n",
        "\r\n",
        "\"\"\"\r\n",
        "aux = arbol\r\n",
        "aux2 = arbol\r\n",
        "copiaprincipal = arbol\r\n",
        "i=0\r\n",
        "h=0\r\n",
        "\r\n",
        "copiaprincipal = arbol\r\n",
        "while copiaprincipal.rigth != None:\r\n",
        "  aux = copiaprincipal.rigth\r\n",
        "  i+=1\r\n",
        "\r\n",
        "\r\n",
        "print(aux.data)\r\n",
        "\"\"\"\r\n",
        "\r\n",
        "\"\"\"if copiaprincipal.left != None:\r\n",
        "  aux= aux.left\r\n",
        "  i+=1\r\n",
        "\r\n",
        "if copiaprincipal.rigth != None:\r\n",
        "  aux2= aux2.rigth\r\n",
        "  h+=1  \"\"\"\r\n",
        "\r\n",
        "\r\n",
        "\r\n",
        "\r\n"
      ],
      "execution_count": 51,
      "outputs": [
        {
          "output_type": "stream",
          "text": [
            "Arbol 1\n",
            "El nodo hoja es:C\n",
            "El nodo hoja es:B\n",
            "El nodo hoja es:Q\n",
            "\n",
            " Arbol 2\n",
            "El nodo hoja es:C\n",
            "El nodo hoja es:W\n",
            "\n",
            " Arbol 3\n",
            "El nodo hoja es:H\n",
            "El nodo hoja es:Q\n",
            "El nodo hoja es:S\n",
            "El nodo hoja es:F\n",
            "\n",
            " Arbol 4\n",
            "El nodo hoja es:Q\n",
            "El nodo hoja es:D\n",
            "El nodo hoja es:W\n",
            "El nodo hoja es:T\n"
          ],
          "name": "stdout"
        },
        {
          "output_type": "execute_result",
          "data": {
            "application/vnd.google.colaboratory.intrinsic+json": {
              "type": "string"
            },
            "text/plain": [
              "'if copiaprincipal.left != None:\\n  aux= aux.left\\n  i+=1\\n\\nif copiaprincipal.rigth != None:\\n  aux2= aux2.rigth\\n  h+=1  '"
            ]
          },
          "metadata": {
            "tags": []
          },
          "execution_count": 51
        }
      ]
    }
  ]
}