{
  "nbformat": 4,
  "nbformat_minor": 0,
  "metadata": {
    "colab": {
      "name": "07-Octubre.ipynb",
      "provenance": [],
      "authorship_tag": "ABX9TyPnfnmjEuWQazo92F51dVC6",
      "include_colab_link": true
    },
    "kernelspec": {
      "name": "python3",
      "display_name": "Python 3"
    }
  },
  "cells": [
    {
      "cell_type": "markdown",
      "metadata": {
        "id": "view-in-github",
        "colab_type": "text"
      },
      "source": [
        "<a href=\"https://colab.research.google.com/github/Francisco-Dan/daa_2021_/blob/master/07_Octubre.ipynb\" target=\"_parent\"><img src=\"https://colab.research.google.com/assets/colab-badge.svg\" alt=\"Open In Colab\"/></a>"
      ]
    },
    {
      "cell_type": "markdown",
      "metadata": {
        "id": "q0cvj23eSwz5"
      },
      "source": [
        "# Busqueda líneal\n",
        "\n",
        "Dada un conjunto de datos no ordenados, la busqueda lineal consiste en recorrer el conjunto de datos desde el inicio al final, moviendose de uno hasta encontrar el elemento o llegar al final del conjunto.\n",
        "\n",
        "datos = [4,18,47,2,34,14,78,12,48,21,31,19,1,3,5]\n",
        "\n",
        "# Busqueda binaria\n",
        "Funciona sobre un conjunto de datos linela ordenado. Consiste en dividir el conjunto en mitades y buscar en esa mitad, si el elemento buscado no esta en la mitad, preguntas si el elemento esta a la derecha o a la izq.\n",
        "Heces la lista igual a la mitad correspondiente y repites el proceso.\n",
        "\n",
        "datos = [ 4,18,47,2,34,14,78,12,48,21,31,19,1,3,5\n",
        "\n",
        "DER = longitud(L) - 1\n",
        "\n",
        "IZQ = 0\n",
        "\n",
        "MID apuntara a la mitad del degmento de busqueda\n",
        "\n",
        "buscado: es el valor a buscar (47)\n",
        "\n",
        "1. Hacer DER = longitud(L) - 1\n",
        "1. Hacer IZQ = 0\n",
        "1. Si IZQ > DER significa que hay un error en los datos\n",
        "1. Calcular MID = int((IZQ + DER)/2)\n",
        "1. mientras L[MID] != buscado hacer\n",
        "    - preguntar L[MID] > buscado\n",
        "        - hacer DER = mid\n",
        "    - de lo contrario\n",
        "        - hacer IZQ = mid\n",
        "    - preguntar (DER - IZQ) % == 0:\n",
        "        - MID = (IZQ + ((DER-IZQ)/2)+1\n",
        "    - de lo contrario\n",
        "        - MID = IZQ + ((DER - IZQ) / 2)\n",
        "1. return MID\n",
        "        "
      ]
    },
    {
      "cell_type": "code",
      "metadata": {
        "id": "r7bnECXuSq6e",
        "outputId": "00c1b4d6-82c0-4657-b1ab-5adedb7a7480",
        "colab": {
          "base_uri": "https://localhost:8080/",
          "height": 134
        }
      },
      "source": [
        "\"\"\"\n",
        "Busqueda lineal\n",
        "Regresa la posicion del elemento 'buscado' si se encuentra dentro de la lista.\n",
        "regresa -1 si elemento buscado no existe dentro de la lista.\n",
        "\"\"\"\n",
        "\n",
        "def busq_lineal(L, buscado):\n",
        "  indice =-1\n",
        "  for idx in range(len(L)):\n",
        "    if L[idx] == buscado:\n",
        "      contador += 1\n",
        "      indice=idx\n",
        "      break\n",
        "    print(f\"número de comparaciones realizadas={contador}\")\n",
        "  return indice\n",
        "\n",
        "def busqueda_binaria(L, buscado):\n",
        "  IZQ = 0\n",
        "  DER = len(L)-1\n",
        "  MID = int((IZQ + DER)/2)\n",
        "  if len(L) % 2 == 0:\n",
        "    MID = (DER / / 2)+1\n",
        "  else: \n",
        "    MID = DER / / 2\n",
        "  \n",
        "  while (L[MID] != buscado):\n",
        "    if L[MID] > buscado:\n",
        "      DER = MID\n",
        "    else:\n",
        "      IZQ = MID\n",
        "    if (DER-IZQ)%2 == 0:\n",
        "      MID = (IZQ+ ((DER - IZQ)//2))+1\n",
        "    else:\n",
        "      MID = IZQ +((DER-IZQ)//2) - 1 \n",
        "  return MID\n",
        "\n",
        "\n",
        "def main():\n",
        "  datos = [ 4,18,47,2,34,14,78,12,48,21,31,19,1,3,5]\n",
        "  dato = int(input(\"¿Qué valor deseas buscar?: \"))\n",
        "  resultado = busq_lineal(datos, dato)\n",
        "  print(\"Resultado: \", resultado)\n",
        "  \n",
        "  print (\"Busqueda lineal en una lista ordenada\")\n",
        "  datos.sort()\n",
        "  print(datos)\n",
        "  resultado= busq_lineal(datos, dato)\n",
        "  print(\"Resultado: \", resultado)\n",
        "\n",
        "  print(\"busqueda binaria\")\n",
        "  posicion = busqueda_binaria(datos, dato)\n",
        "  print (f\"El elemento {dato} esta en la posicion {datos}\")\n",
        "\n",
        "main ()\n",
        "\n",
        "\n",
        "\n",
        "\n",
        "\n"
      ],
      "execution_count": 9,
      "outputs": [
        {
          "output_type": "error",
          "ename": "SyntaxError",
          "evalue": "ignored",
          "traceback": [
            "\u001b[0;36m  File \u001b[0;32m\"<ipython-input-9-e2e367a920b8>\"\u001b[0;36m, line \u001b[0;32m22\u001b[0m\n\u001b[0;31m    MID = (DER / / 2)+1\u001b[0m\n\u001b[0m                 ^\u001b[0m\n\u001b[0;31mSyntaxError\u001b[0m\u001b[0;31m:\u001b[0m invalid syntax\n"
          ]
        }
      ]
    }
  ]
}