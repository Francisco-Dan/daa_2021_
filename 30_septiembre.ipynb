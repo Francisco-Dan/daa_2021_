{
  "nbformat": 4,
  "nbformat_minor": 0,
  "metadata": {
    "colab": {
      "name": "30-septiembre.ipynb",
      "provenance": [],
      "collapsed_sections": [],
      "authorship_tag": "ABX9TyOljeAVtQ6utf8pHSp0kMH1",
      "include_colab_link": true
    },
    "kernelspec": {
      "name": "python3",
      "display_name": "Python 3"
    }
  },
  "cells": [
    {
      "cell_type": "markdown",
      "metadata": {
        "id": "view-in-github",
        "colab_type": "text"
      },
      "source": [
        "<a href=\"https://colab.research.google.com/github/Francisco-Dan/daa_2021_/blob/master/30_septiembre.ipynb\" target=\"_parent\"><img src=\"https://colab.research.google.com/assets/colab-badge.svg\" alt=\"Open In Colab\"/></a>"
      ]
    },
    {
      "cell_type": "markdown",
      "metadata": {
        "id": "6B-IX-NAQKm0"
      },
      "source": [
        "# Palíndromos\n",
        "Es una palabra que se lee, de igual forma de un sentido y de sentido inverso, ejemplo:\n",
        "1. sugus \n",
        "1. oso\n",
        "1. reconocer \n",
        "1. 10101\n",
        "1. 10:01\n",
        "etc.\n",
        "Se desea encontrar todos los palindromos que existen en la frranja horaria de un día completo, tomando como horario inicial las 00:00 y como horario final las 23:59 horas.\n",
        "\n",
        "El algoritmo debe mostrar en pantalla todos los palíndromos existentes en este rago, al final debe mostrar el conteo de total de palíndromos totales."
      ]
    },
    {
      "cell_type": "code",
      "metadata": {
        "id": "QsgA53LAP7fp",
        "outputId": "6d541858-55fd-4cc5-bc6f-f72626cd2630",
        "colab": {
          "base_uri": "https://localhost:8080/",
          "height": 380
        }
      },
      "source": [
        "import datetime\n",
        "\n",
        "print (f\" de las {datetime.time.min} a las {datetime.time.max} existen:\")\n",
        "\n",
        "t=0\n",
        "\n",
        "contador = 0\n",
        "\n",
        "for hora in range (0,24,1):\n",
        "  for min in range (0,59,1):    \n",
        "    hora = str(hora)\n",
        "    min = str(min)\n",
        "    mininv = min[::-1]\n",
        "    if hora == mininv :    \n",
        "      print (f\"{hora}:{mininv}\")\n",
        "      contador += 1\n",
        "    \n",
        "print(f\"{contador}\")"
      ],
      "execution_count": 33,
      "outputs": [
        {
          "output_type": "stream",
          "text": [
            " de las 00:00:00 a las 23:59:59.999999 existen:\n",
            "0:0\n",
            "1:1\n",
            "2:2\n",
            "3:3\n",
            "4:4\n",
            "5:5\n",
            "6:6\n",
            "7:7\n",
            "8:8\n",
            "9:9\n",
            "11:11\n",
            "12:12\n",
            "13:13\n",
            "14:14\n",
            "15:15\n",
            "21:21\n",
            "22:22\n",
            "23:23\n",
            "18\n"
          ],
          "name": "stdout"
        }
      ]
    }
  ]
}