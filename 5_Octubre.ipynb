{
  "nbformat": 4,
  "nbformat_minor": 0,
  "metadata": {
    "colab": {
      "name": "5-Octubre.ipynb",
      "provenance": [],
      "collapsed_sections": [],
      "authorship_tag": "ABX9TyPpsM8E4BdPGB3TFQtDotG/",
      "include_colab_link": true
    },
    "kernelspec": {
      "name": "python3",
      "display_name": "Python 3"
    }
  },
  "cells": [
    {
      "cell_type": "markdown",
      "metadata": {
        "id": "view-in-github",
        "colab_type": "text"
      },
      "source": [
        "<a href=\"https://colab.research.google.com/github/Francisco-Dan/daa_2021_/blob/master/5_Octubre.ipynb\" target=\"_parent\"><img src=\"https://colab.research.google.com/assets/colab-badge.svg\" alt=\"Open In Colab\"/></a>"
      ]
    },
    {
      "cell_type": "markdown",
      "metadata": {
        "id": "kI-YXJeGAB1l"
      },
      "source": [
        "# Estructura de datos Pila (stack)\n",
        "LIFO (last in, first out)\n",
        "Push para agregar\n",
        "Pop para sacar\n",
        "Es lineal\n",
        "Se pueden obtener e ingresar datos desde el tope\n",
        "\n",
        "## Operaciones de las pilas:\n",
        "\n",
        "1. Is empty (regresa true o false)\n",
        "1. get top (regresa el elemento en el tope sin sacarlo)\n",
        "1. pop (saca el elemento del tope y lo regresa)\n",
        "1. push (mete un elemento en el tope)\n",
        "1. get length (regresa el número de elementos de la pila)"
      ]
    },
    {
      "cell_type": "code",
      "metadata": {
        "id": "m71EEll6_YTk"
      },
      "source": [
        "class Stack:\n",
        "  def __init__ (self):\n",
        "    self.datos=[]\n",
        "\n",
        "  def is_empty (self):\n",
        "    return len(self.datos) == 0\n",
        "\n",
        "  def get_top (self):\n",
        "    return self.datos [-1]\n",
        "\n",
        "  def pop (self):\n",
        "    return self.datos.pop()\n",
        "\n",
        "  def push (self,valor):\n",
        "    return self.datos.append(valor)\n",
        "\n",
        "  def get_length (self):\n",
        "    return len(self.datos)\n",
        "\n",
        "  def to_string (self):\n",
        "    print (\"---------\")\n",
        "    for ele in self.datos[-1::-1]:\n",
        "      print(f\"{ele}\")\n",
        "    print (\"---------\\n\")\n",
        "  "
      ],
      "execution_count": 20,
      "outputs": []
    },
    {
      "cell_type": "code",
      "metadata": {
        "id": "2ZZFUiMCEk_g",
        "outputId": "87baae02-4a8d-4b93-b3a7-5f3b004363d2",
        "colab": {
          "base_uri": "https://localhost:8080/",
          "height": 689
        }
      },
      "source": [
        "pila1 = Stack()\n",
        "pila1.push(5)\n",
        "pila1.push(23)\n",
        "pila1.push(39)\n",
        "pila1.push(46)\n",
        "pila1.push(87)\n",
        "pila1.to_string()\n",
        "\n",
        "sacado = pila1.pop()\n",
        "print(sacado)\n",
        "pila1.to_string()\n",
        "\n",
        "pila1.push(344)\n",
        "pila1.push(233)\n",
        "pila1.to_string()\n",
        "\n",
        "print (f\"El elemento en el tope es: {pila1.get_top()}\")\n",
        "pila1.to_string()\n",
        "print (f\"La pila tiene: {pila1.get_length()}\")\n",
        "print (f\"¿La pila esta vacia?: {pila1.is_empty()}\")\n"
      ],
      "execution_count": 23,
      "outputs": [
        {
          "output_type": "stream",
          "text": [
            "---------\n",
            "87\n",
            "46\n",
            "39\n",
            "23\n",
            "5\n",
            "---------\n",
            "\n",
            "87\n",
            "---------\n",
            "46\n",
            "39\n",
            "23\n",
            "5\n",
            "---------\n",
            "\n",
            "---------\n",
            "233\n",
            "344\n",
            "46\n",
            "39\n",
            "23\n",
            "5\n",
            "---------\n",
            "\n",
            "El elemento en el tope es: 233\n",
            "---------\n",
            "233\n",
            "344\n",
            "46\n",
            "39\n",
            "23\n",
            "5\n",
            "---------\n",
            "\n",
            "La pila tiene: 6\n",
            "¿La pila esta vacia?: False\n"
          ],
          "name": "stdout"
        }
      ]
    },
    {
      "cell_type": "markdown",
      "metadata": {
        "id": "zUWGB4d6I_yk"
      },
      "source": [
        "# Ejemplo de aplicacion de pilas\n",
        "\n",
        "X= 4 + 5 + 6 + 3\n",
        "\n",
        "X= 4 + (5 + 6) + 3\n",
        "\n",
        "X= 4 + 5 + 6) + 3\n",
        "\n",
        "if (a==b) {System.out.println (b)\n",
        "\n",
        "if (a==b) {System.out.println (b)\n",
        "\n",
        "## Reglas\n",
        "\n",
        "### ´(´ - push (´@´)\n",
        "### ´)´ - pop()\n",
        "\n",
        "Si al final del recorridp la pila esta vacía, entonces la cadena es correcta.\n",
        "\n",
        "Si en un pop desencadena en querer sacar un elemento de la pila vacia significa que la cadena no esta balanceada.\n"
      ]
    },
    {
      "cell_type": "markdown",
      "metadata": {
        "id": "gOysljVNNkC3"
      },
      "source": [
        "# Tarea\n",
        "Hacer un programa que que valide el balanceo de ´()´, ´[]´ y ´{}´ en programas del lenguaje C y Java.\n",
        "\n",
        "Toma como base el código de la clase"
      ]
    }
  ]
}