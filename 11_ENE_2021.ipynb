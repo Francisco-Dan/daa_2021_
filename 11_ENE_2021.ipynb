{
  "nbformat": 4,
  "nbformat_minor": 0,
  "metadata": {
    "colab": {
      "name": "11/ENE/2021.ipynb",
      "provenance": [],
      "authorship_tag": "ABX9TyMrVCnDCKyCr5KWcm7YJAW9",
      "include_colab_link": true
    },
    "kernelspec": {
      "name": "python3",
      "display_name": "Python 3"
    }
  },
  "cells": [
    {
      "cell_type": "markdown",
      "metadata": {
        "id": "view-in-github",
        "colab_type": "text"
      },
      "source": [
        "<a href=\"https://colab.research.google.com/github/Francisco-Dan/daa_2021_/blob/master/11_ENE_2021.ipynb\" target=\"_parent\"><img src=\"https://colab.research.google.com/assets/colab-badge.svg\" alt=\"Open In Colab\"/></a>"
      ]
    },
    {
      "cell_type": "code",
      "metadata": {
        "id": "8h7xGIsA7h3t"
      },
      "source": [
        "class NodoArbol:\r\n",
        "  def __init__ (self, value , left=None , rigth=None):\r\n",
        "    self.data= value\r\n",
        "    self.left= left\r\n",
        "    self.rigth= rigth"
      ],
      "execution_count": 23,
      "outputs": []
    },
    {
      "cell_type": "code",
      "metadata": {
        "id": "V7bWzWhX7Y3k"
      },
      "source": [
        "arbol = NodoArbol(\"R\" , NodoArbol(\"C\"), NodoArbol(\"H\"))"
      ],
      "execution_count": 24,
      "outputs": []
    },
    {
      "cell_type": "code",
      "metadata": {
        "id": "fp_hCowf9ubV"
      },
      "source": [
        "nodo1 = NodoArbol(\"C\")\r\n",
        "nodo2 = NodoArbol(\"H\")\r\n",
        "arbol_v2 = NodoArbol(\"R\" , nodo1 , nodo2)"
      ],
      "execution_count": 25,
      "outputs": []
    },
    {
      "cell_type": "code",
      "metadata": {
        "colab": {
          "base_uri": "https://localhost:8080/"
        },
        "id": "bU_k_2T9-aOf",
        "outputId": "7b1fe51e-b786-4356-c02e-71198eb0865b"
      },
      "source": [
        "print(arbol.rigth.data)\r\n",
        "print(arbol_v2.rigth.data)"
      ],
      "execution_count": 26,
      "outputs": [
        {
          "output_type": "stream",
          "text": [
            "H\n",
            "H\n"
          ],
          "name": "stdout"
        }
      ]
    },
    {
      "cell_type": "code",
      "metadata": {
        "colab": {
          "base_uri": "https://localhost:8080/"
        },
        "id": "7hQgCAqd--ho",
        "outputId": "9fc0ea70-23ba-44a1-d002-ca9cfeb98727"
      },
      "source": [
        "arbol2= NodoArbol(4,NodoArbol(3,NodoArbol(2,NodoArbol(2))),NodoArbol(5,None,None))\r\n",
        "print(arbol2.left.left.left.data)"
      ],
      "execution_count": 27,
      "outputs": [
        {
          "output_type": "stream",
          "text": [
            "2\n"
          ],
          "name": "stdout"
        }
      ]
    },
    {
      "cell_type": "code",
      "metadata": {
        "colab": {
          "base_uri": "https://localhost:8080/"
        },
        "id": "97OHbV4hECfm",
        "outputId": "39e60231-0795-4104-df4f-16de96d78941"
      },
      "source": [
        "aux = arbol2\r\n",
        "while aux.left != None:\r\n",
        "  aux = aux.left\r\n",
        " \r\n",
        "print(aux.data)"
      ],
      "execution_count": 28,
      "outputs": [
        {
          "output_type": "stream",
          "text": [
            "2\n"
          ],
          "name": "stdout"
        }
      ]
    },
    {
      "cell_type": "code",
      "metadata": {
        "colab": {
          "base_uri": "https://localhost:8080/"
        },
        "id": "OpIGSEWsERIJ",
        "outputId": "b2cd800d-da44-4683-c6f2-eb1d2b32c8ff"
      },
      "source": [
        "arbol3= NodoArbol(\"Santi\",None,NodoArbol(\"Jesus\",NodoArbol(\"Pedro\",None,NodoArbol(\"Diana\")),None))\r\n",
        "print(arbol3.rigth.left.rigth.data)"
      ],
      "execution_count": 30,
      "outputs": [
        {
          "output_type": "stream",
          "text": [
            "Diana\n"
          ],
          "name": "stdout"
        }
      ]
    }
  ]
}