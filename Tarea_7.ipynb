{
  "nbformat": 4,
  "nbformat_minor": 0,
  "metadata": {
    "colab": {
      "name": "Tarea 7.ipynb",
      "provenance": [],
      "authorship_tag": "ABX9TyOLnkA8dzM3Cc6XxfxhXS6Y",
      "include_colab_link": true
    },
    "kernelspec": {
      "name": "python3",
      "display_name": "Python 3"
    }
  },
  "cells": [
    {
      "cell_type": "markdown",
      "metadata": {
        "id": "view-in-github",
        "colab_type": "text"
      },
      "source": [
        "<a href=\"https://colab.research.google.com/github/Francisco-Dan/daa_2021_/blob/master/Tarea_7.ipynb\" target=\"_parent\"><img src=\"https://colab.research.google.com/assets/colab-badge.svg\" alt=\"Open In Colab\"/></a>"
      ]
    },
    {
      "cell_type": "code",
      "metadata": {
        "colab": {
          "base_uri": "https://localhost:8080/"
        },
        "id": "ZqMdqB3Tywe1",
        "outputId": "0001f685-5e52-40c6-c02c-bc731d0b7643"
      },
      "source": [
        "def fnRec(x):\n",
        "  if x>0:\n",
        "   print (x)\n",
        "   printRev(x-1)\n",
        "   \n",
        "printRev(10)\n"
      ],
      "execution_count": 332,
      "outputs": [
        {
          "output_type": "stream",
          "text": [
            "10\n",
            "9\n",
            "8\n",
            "7\n",
            "6\n",
            "5\n",
            "4\n",
            "3\n",
            "2\n",
            "1\n"
          ],
          "name": "stdout"
        }
      ]
    },
    {
      "cell_type": "code",
      "metadata": {
        "colab": {
          "base_uri": "https://localhost:8080/"
        },
        "id": "K7ypuIJh_DfO",
        "outputId": "e848ee06-ba27-46f6-b27d-1450f5de99cc"
      },
      "source": [
        "def fnRec(x):\n",
        "  if len(x) == 1:\n",
        "    return x[0]\n",
        "  else:\n",
        "    return x[0]+ fnRec(x[1:])\n",
        "    \n",
        "\n",
        "def main():\n",
        "  lista = [1,3,6,3,2,8,5]\n",
        "  sumaTotal= fnRec(lista)\n",
        "  print(f\"Resultado :  {sumaTotal}\")\n",
        "\n",
        "main()"
      ],
      "execution_count": 205,
      "outputs": [
        {
          "output_type": "stream",
          "text": [
            "La suma es :  28\n"
          ],
          "name": "stdout"
        }
      ]
    },
    {
      "cell_type": "code",
      "metadata": {
        "colab": {
          "base_uri": "https://localhost:8080/"
        },
        "id": "HhY3NmJh7JVj",
        "outputId": "0ee3e7dc-4649-425b-e7c4-4c4005432844"
      },
      "source": [
        "\n",
        "class Pila(object):\n",
        "    def __init__(self):\n",
        "        self.items=[]\n",
        "\n",
        "    def push(self, dato): \n",
        "        self.items.append(dato)\n",
        "\n",
        "    def pop(self): \n",
        "        if self.esta_vacia():\n",
        "            return None\n",
        "        else:\n",
        "            return self.items.pop()\n",
        "\n",
        "    def medio(self): \n",
        "      if len(self.items) % 2 == 0:\n",
        "        print(\"Al ser un numero par los 2 digitos de en medio son:\")\n",
        "        return print(self.items[(len(self.items) // 2)-1] , self.items[(len(self.items) // 2)])\n",
        "      else:\n",
        "        return print(self.items[(len(self.items) // 2)])\n",
        "\n",
        "    def vacia(self): \n",
        "        if len(self.items)==0:\n",
        "            return True\n",
        "        else:\n",
        "            return False\n",
        "        \n",
        "    def verPila(self): \n",
        "        print(self.items)\n",
        "\n",
        "\n",
        "\n",
        "lista = Pila()\n",
        "lista.push(3)\n",
        "lista.push(6)\n",
        "lista.push(2)\n",
        "lista.push(33)\n",
        "lista.push(6)\n",
        "lista.push(1)\n",
        "lista.push(23)\n",
        "lista.push(7)\n",
        "lista.push(16)\n",
        "lista.push(11)\n",
        "\n",
        "lista.verPila()\n",
        "lista.medio()\n",
        "\n",
        "\n",
        "\n",
        "\n",
        "\n",
        "\n",
        "\n",
        "\n",
        "\n",
        "\n",
        "\n",
        "\n",
        "\n",
        "\n",
        "\n",
        "\n",
        "\n",
        "    "
      ],
      "execution_count": 333,
      "outputs": [
        {
          "output_type": "stream",
          "text": [
            "[3, 6, 2, 33, 6, 1, 23, 7, 16, 11]\n",
            "Al ser un numero par los 2 digitos de en medio son:\n",
            "6 1\n"
          ],
          "name": "stdout"
        }
      ]
    }
  ]
}