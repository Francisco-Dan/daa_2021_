{
  "nbformat": 4,
  "nbformat_minor": 0,
  "metadata": {
    "colab": {
      "name": "13_Enero.ipynb",
      "provenance": [],
      "authorship_tag": "ABX9TyNs605VbgBZuJDd2dCamBck",
      "include_colab_link": true
    },
    "kernelspec": {
      "name": "python3",
      "display_name": "Python 3"
    }
  },
  "cells": [
    {
      "cell_type": "markdown",
      "metadata": {
        "id": "view-in-github",
        "colab_type": "text"
      },
      "source": [
        "<a href=\"https://colab.research.google.com/github/Francisco-Dan/daa_2021_/blob/master/13_Enero.ipynb\" target=\"_parent\"><img src=\"https://colab.research.google.com/assets/colab-badge.svg\" alt=\"Open In Colab\"/></a>"
      ]
    },
    {
      "cell_type": "code",
      "metadata": {
        "id": "K8CQ5ErAMJRR"
      },
      "source": [
        "class NodoArbol:\r\n",
        "  def __init__ (self, dato , hijo_izq=None , hijo_der=None):\r\n",
        "    self.dato= dato\r\n",
        "    self.left= hijo_izq\r\n",
        "    self.rigth= hijo_der"
      ],
      "execution_count": 8,
      "outputs": []
    },
    {
      "cell_type": "markdown",
      "metadata": {
        "id": "kK08asXJMpZh"
      },
      "source": [
        "#Árbol binario de busqueda\r\n",
        "Los nodos a la izquierda son menores a la raíz y los nodos a la derecha son mayores a la raíz. Puedes ser recorridos en : pre-orden, in-orden y post orden."
      ]
    },
    {
      "cell_type": "code",
      "metadata": {
        "id": "Ie1tQhbGMnG0"
      },
      "source": [
        "class BinarySearchTree: \r\n",
        "  def __init__ (self):\r\n",
        "    self.__root = None\r\n",
        "\r\n",
        "  def insert (self, value):\r\n",
        "    if self.__root== None:\r\n",
        "      self.__root = NodoArbol(value, None, None)\r\n",
        "    else:\r\n",
        "      #preguntar si el value es menor que el root, de ser el caso \r\n",
        "      #insertar a la izquierda. Pero...... puedes ser el caso que el\r\n",
        "      #sub arbol izq ya tenga muchos elementos.....\r\n",
        "      self.__insert_nodo__(self.__root, value)\r\n",
        "\r\n",
        "  def __insert_nodo__(self, nodo, value):\r\n",
        "    if nodo.dato==value:\r\n",
        "      pass\r\n",
        "    elif value < nodo.dato: #Si es true va a la izquierda\r\n",
        "      if nodo.left== None: #Si hay espacio en la izquierda ahí le toca \r\n",
        "        nodo.left = NodoArbol(value, None, None) #insertamos el nodo\r\n",
        "      else:\r\n",
        "        self.__insert_nodo__(nodo.left, value) #buscar su posición en nodo izquierdo\r\n",
        "    else: \r\n",
        "      if nodo.rigth == None:\r\n",
        "        nodo.rigth = NodoArbol(value, None, None)\r\n",
        "      else:\r\n",
        "        self.__insert_nodo__(nodo.rigth, value) #buscar en sub arbol der\r\n",
        "\r\n",
        "    "
      ],
      "execution_count": 11,
      "outputs": []
    },
    {
      "cell_type": "code",
      "metadata": {
        "id": "ikDuCXK4bso_"
      },
      "source": [
        "bst = BinarySearchTree()\r\n",
        "bst.insert(50)\r\n",
        "bst.insert(30)\r\n",
        "bst.insert(20)\r\n",
        "bst.insert(20)#True or flase?"
      ],
      "execution_count": 13,
      "outputs": []
    }
  ]
}