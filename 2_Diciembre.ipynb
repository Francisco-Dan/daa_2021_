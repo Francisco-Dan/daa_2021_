{
  "nbformat": 4,
  "nbformat_minor": 0,
  "metadata": {
    "colab": {
      "name": "2 Diciembre.ipynb",
      "provenance": [],
      "authorship_tag": "ABX9TyN1+6MRqgCDnKQax3i7/jzB",
      "include_colab_link": true
    },
    "kernelspec": {
      "name": "python3",
      "display_name": "Python 3"
    }
  },
  "cells": [
    {
      "cell_type": "markdown",
      "metadata": {
        "id": "view-in-github",
        "colab_type": "text"
      },
      "source": [
        "<a href=\"https://colab.research.google.com/github/Francisco-Dan/daa_2021_/blob/master/2_Diciembre.ipynb\" target=\"_parent\"><img src=\"https://colab.research.google.com/assets/colab-badge.svg\" alt=\"Open In Colab\"/></a>"
      ]
    },
    {
      "cell_type": "code",
      "metadata": {
        "id": "TB-9w4-Z_hvk"
      },
      "source": [
        "def fnRecinfinito():\n",
        "  print(\"Hola\")\n",
        "  fnRecinfinito()"
      ],
      "execution_count": null,
      "outputs": []
    },
    {
      "cell_type": "code",
      "metadata": {
        "id": "v-trSCOI_6zn"
      },
      "source": [
        "fnRecinfinito()"
      ],
      "execution_count": null,
      "outputs": []
    },
    {
      "cell_type": "code",
      "metadata": {
        "colab": {
          "base_uri": "https://localhost:8080/"
        },
        "id": "UMkAn4SLASkC",
        "outputId": "e80266d9-c8f2-4ccf-c0a3-891373af9678"
      },
      "source": [
        "def fnRec(x):\n",
        "  if x == 0:\n",
        "    print(\"Stop\")\n",
        "\n",
        "  else:\n",
        "    print(x)\n",
        "    fnRec(x-1)\n",
        "    \n",
        "\n",
        "def main():\n",
        "  print(\"Inicio del programa\")\n",
        "  fnRec(5)\n",
        "  print(\"Fin del programa\")\n",
        "\n",
        "main()\n"
      ],
      "execution_count": 11,
      "outputs": [
        {
          "output_type": "stream",
          "text": [
            "Inicio del programa\n",
            "5\n",
            "4\n",
            "3\n",
            "2\n",
            "1\n",
            "Stop\n",
            "Fin del programa\n"
          ],
          "name": "stdout"
        }
      ]
    },
    {
      "cell_type": "code",
      "metadata": {
        "colab": {
          "base_uri": "https://localhost:8080/"
        },
        "id": "FUz1FysmBc87",
        "outputId": "49e2e09f-aab1-40b2-8c5e-9d8b64e25c5f"
      },
      "source": [
        "def printRev(x):\n",
        "  if x>0:\n",
        "   printRev(x-1)\n",
        "   print (x)\n",
        "\n",
        "printRev(3)"
      ],
      "execution_count": 12,
      "outputs": [
        {
          "output_type": "stream",
          "text": [
            "1\n",
            "2\n",
            "3\n"
          ],
          "name": "stdout"
        }
      ]
    },
    {
      "cell_type": "code",
      "metadata": {
        "colab": {
          "base_uri": "https://localhost:8080/"
        },
        "id": "gIJiKR_CIuGy",
        "outputId": "f40323d5-1e1e-42a4-f0c1-1c61d756fe1a"
      },
      "source": [
        "def fibonacci(n):\n",
        "  if n == 1 or n == 0:\n",
        "    return n\n",
        "  else:\n",
        "    return (fibonacci(n-1)+fibonacci(n-2))\n",
        "\n",
        "print(fibonacci(8))"
      ],
      "execution_count": 14,
      "outputs": [
        {
          "output_type": "stream",
          "text": [
            "21\n"
          ],
          "name": "stdout"
        }
      ]
    }
  ]
}